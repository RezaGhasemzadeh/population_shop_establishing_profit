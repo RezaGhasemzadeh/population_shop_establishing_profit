{
 "cells": [
  {
   "cell_type": "code",
   "execution_count": 6,
   "id": "42d31625",
   "metadata": {},
   "outputs": [],
   "source": [
    "import pandas as pd\n",
    "import numpy as np\n",
    "import matplotlib.pyplot as plt\n",
    "from sklearn.model_selection import train_test_split\n",
    "from sklearn.metrics import mean_absolute_error, mean_squared_error\n",
    "from sklearn.linear_model import LinearRegression"
   ]
  },
  {
   "cell_type": "code",
   "execution_count": 16,
   "id": "02365e2a",
   "metadata": {},
   "outputs": [
    {
     "data": {
      "text/plain": [
       "(20,)"
      ]
     },
     "execution_count": 16,
     "metadata": {},
     "output_type": "execute_result"
    }
   ],
   "source": [
    "def preprocessing():\n",
    "    dataset = pd.read_csv(\"data.csv\")\n",
    "    dataset[\"population\"] = dataset.population.replace(0, np.nan)\n",
    "    population_mean = int(dataset.population.mean(skipna=True))\n",
    "    dataset[\"population\"] = dataset.population.replace(np.nan, population_mean)\n",
    "    data = dataset.iloc[:, 0]\n",
    "    label = dataset.benefit\n",
    "train_data, test_data, train_label, test_label = train_test_split(data, label, test_size=0.2)\n"
   ]
  },
  {
   "cell_type": "code",
   "execution_count": null,
   "id": "f164dd71",
   "metadata": {},
   "outputs": [],
   "source": []
  }
 ],
 "metadata": {
  "kernelspec": {
   "display_name": "Python 3 (ipykernel)",
   "language": "python",
   "name": "python3"
  },
  "language_info": {
   "codemirror_mode": {
    "name": "ipython",
    "version": 3
   },
   "file_extension": ".py",
   "mimetype": "text/x-python",
   "name": "python",
   "nbconvert_exporter": "python",
   "pygments_lexer": "ipython3",
   "version": "3.10.9"
  }
 },
 "nbformat": 4,
 "nbformat_minor": 5
}
