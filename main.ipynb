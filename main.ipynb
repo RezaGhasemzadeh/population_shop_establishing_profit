{
 "cells": [
  {
   "cell_type": "code",
   "execution_count": 23,
   "id": "857fa982",
   "metadata": {},
   "outputs": [],
   "source": [
    "import pandas as pd\n",
    "import numpy as np\n",
    "import matplotlib.pyplot as plt\n",
    "from sklearn.model_selection import train_test_split\n",
    "from sklearn.metrics import mean_absolute_error, mean_squared_error\n",
    "from sklearn.linear_model import LinearRegression\n",
    "from math import sqrt"
   ]
  },
  {
   "cell_type": "code",
   "execution_count": 24,
   "id": "18fad475",
   "metadata": {},
   "outputs": [
    {
     "name": "stdout",
     "output_type": "stream",
     "text": [
      "MAE: 2.424331378535677\n",
      "MSE: 8.879601339597395\n",
      "RMSE: 2.979865993563703\n"
     ]
    }
   ],
   "source": [
    "def preprocessing():\n",
    "    dataset = pd.read_csv(\"data.csv\")\n",
    "    dataset[\"population\"] = dataset.population.replace(0, np.nan)\n",
    "    population_mean = int(dataset.population.mean(skipna=True))\n",
    "    dataset[\"population\"] = dataset.population.replace(np.nan, population_mean)\n",
    "    data = dataset.iloc[:, :1]\n",
    "    label = dataset.benefit\n",
    "    train_data, test_data, train_label, test_label = train_test_split(data, label, test_size=0.2)\n",
    "    return train_data, test_data, train_label, test_label\n",
    "\n",
    "\n",
    "def train():\n",
    "    train_data, test_data, train_label, test_label = preprocessing()\n",
    "    linear_reg = LinearRegression()\n",
    "    linear_reg.fit(train_data, train_label)\n",
    "    label_predicted = linear_reg.predict(test_data)\n",
    "    return test_label, label_predicted\n",
    "    \n",
    "\n",
    "def show_results():\n",
    "    actual_label, predicted_label = train()\n",
    "    print(f\"MAE: {mean_absolute_error(actual_label, predicted_label)}\")\n",
    "    print(f\"MSE: {mean_squared_error(actual_label, predicted_label)}\")\n",
    "    print(f\"RMSE: {sqrt(mean_squared_error(actual_label, predicted_label))}\")\n",
    "    \n",
    "    \n",
    "show_results()"
   ]
  },
  {
   "cell_type": "code",
   "execution_count": null,
   "id": "5473b708",
   "metadata": {},
   "outputs": [],
   "source": []
  }
 ],
 "metadata": {
  "kernelspec": {
   "display_name": "Python 3 (ipykernel)",
   "language": "python",
   "name": "python3"
  },
  "language_info": {
   "codemirror_mode": {
    "name": "ipython",
    "version": 3
   },
   "file_extension": ".py",
   "mimetype": "text/x-python",
   "name": "python",
   "nbconvert_exporter": "python",
   "pygments_lexer": "ipython3",
   "version": "3.10.9"
  }
 },
 "nbformat": 4,
 "nbformat_minor": 5
}
